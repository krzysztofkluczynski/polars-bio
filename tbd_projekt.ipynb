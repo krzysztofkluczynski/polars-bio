{
 "cells": [
  {
   "cell_type": "code",
   "execution_count": 1,
   "id": "e35c3fc1",
   "metadata": {},
   "outputs": [
    {
     "name": "stderr",
     "output_type": "stream",
     "text": [
      "INFO:polars_bio:Creating BioSessionContext\n"
     ]
    }
   ],
   "source": [
    "import polars_bio as pb\n",
    "import pandas as pd\n",
    "from polars_bio.io import read_fastq\n",
    "import polars as pl"
   ]
  },
  {
   "cell_type": "code",
   "execution_count": 2,
   "id": "0f59f5c7",
   "metadata": {},
   "outputs": [
    {
     "name": "stderr",
     "output_type": "stream",
     "text": [
      "INFO:polars_bio:Table: example2 registered for path: example2.fastq\n"
     ]
    },
    {
     "data": {
      "text/plain": [
       "polars.config.Config"
      ]
     },
     "execution_count": 2,
     "metadata": {},
     "output_type": "execute_result"
    }
   ],
   "source": [
    "df = read_fastq(\"example2.fastq\")\n",
    "pl.Config.set_tbl_rows(100)"
   ]
  },
  {
   "cell_type": "code",
   "execution_count": 3,
   "id": "562c3d68",
   "metadata": {},
   "outputs": [
    {
     "data": {
      "application/vnd.jupyter.widget-view+json": {
       "model_id": "111a68a59f014f118f5c1be3a60d2f05",
       "version_major": 2,
       "version_minor": 0
      },
      "text/plain": [
       "0rows [00:00, ?rows/s]"
      ]
     },
     "metadata": {},
     "output_type": "display_data"
    },
    {
     "name": "stdout",
     "output_type": "stream",
     "text": [
      "shape: (28, 1)\n",
      "┌───────────┐\n",
      "│ result    │\n",
      "│ ---       │\n",
      "│ struct[2] │\n",
      "╞═══════════╡\n",
      "│ {\"GCA\",3} │\n",
      "│ {\"TCA\",2} │\n",
      "│ {\"GGA\",1} │\n",
      "│ {\"CCA\",3} │\n",
      "│ {\"GCC\",1} │\n",
      "│ {\"AGA\",1} │\n",
      "│ {\"ATA\",3} │\n",
      "│ {\"AAG\",3} │\n",
      "│ {\"AAT\",4} │\n",
      "│ {\"AAC\",1} │\n",
      "│ {\"CGC\",1} │\n",
      "│ {\"CAA\",5} │\n",
      "│ {\"CTA\",2} │\n",
      "│ {\"ATC\",1} │\n",
      "│ {\"ACA\",2} │\n",
      "│ {\"ATG\",4} │\n",
      "│ {\"ACC\",2} │\n",
      "│ {\"GTA\",3} │\n",
      "│ {\"GAA\",1} │\n",
      "│ {\"AAA\",6} │\n",
      "│ {\"TAA\",2} │\n",
      "│ {\"CAG\",1} │\n",
      "│ {\"GAC\",1} │\n",
      "│ {\"CTC\",3} │\n",
      "│ {\"AGG\",1} │\n",
      "│ {\"ACG\",1} │\n",
      "│ {\"AGC\",5} │\n",
      "│ {\"CCC\",1} │\n",
      "└───────────┘\n"
     ]
    }
   ],
   "source": [
    "print(pb.sql(\"SELECT kmer_count(sequence, 3) AS result FROM example2 LIMIT 60\").collect())"
   ]
  },
  {
   "cell_type": "code",
   "execution_count": null,
   "id": "4c0acaeb",
   "metadata": {},
   "outputs": [],
   "source": []
  }
 ],
 "metadata": {
  "kernelspec": {
   "display_name": ".venv",
   "language": "python",
   "name": "python3"
  },
  "language_info": {
   "codemirror_mode": {
    "name": "ipython",
    "version": 3
   },
   "file_extension": ".py",
   "mimetype": "text/x-python",
   "name": "python",
   "nbconvert_exporter": "python",
   "pygments_lexer": "ipython3",
   "version": "3.12.3"
  }
 },
 "nbformat": 4,
 "nbformat_minor": 5
}
